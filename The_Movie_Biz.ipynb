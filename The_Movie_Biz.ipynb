{
 "cells": [
  {
   "cell_type": "code",
   "execution_count": 1,
   "id": "03049d43",
   "metadata": {},
   "outputs": [],
   "source": [
    "import requests\n",
    "import json\n",
    "import pandas as pd\n",
    "oscar_df = pd.read_csv(\"data/the_oscar_award.csv\")\n",
    "#from config import api_key"
   ]
  },
  {
   "cell_type": "code",
   "execution_count": 2,
   "id": "797690ba",
   "metadata": {},
   "outputs": [],
   "source": [
    "from pprint import pprint\n",
    "api_key = \"11c18b32\""
   ]
  },
  {
   "cell_type": "code",
   "execution_count": 3,
   "id": "d003336b",
   "metadata": {},
   "outputs": [],
   "source": [
    "url = \"http://www.omdbapi.com/?t=\"\n",
    "api_key = \"&apikey=\" + api_key"
   ]
  },
  {
   "cell_type": "code",
   "execution_count": 4,
   "id": "bcb3c5b0",
   "metadata": {},
   "outputs": [],
   "source": [
    "response = requests.get(url + \"The Wizard of Oz\" + api_key)"
   ]
  },
  {
   "cell_type": "code",
   "execution_count": 5,
   "id": "7895774c",
   "metadata": {},
   "outputs": [
    {
     "name": "stdout",
     "output_type": "stream",
     "text": [
      "{'Actors': 'Judy Garland, Frank Morgan, Ray Bolger',\n",
      " 'Awards': 'Won 2 Oscars. 13 wins & 16 nominations total',\n",
      " 'BoxOffice': '$24,668,669',\n",
      " 'Country': 'United States',\n",
      " 'DVD': '12 Aug 2003',\n",
      " 'Director': 'Victor Fleming, George Cukor, Mervyn LeRoy',\n",
      " 'Genre': 'Adventure, Family, Fantasy',\n",
      " 'Language': 'English',\n",
      " 'Metascore': '92',\n",
      " 'Plot': 'Young Dorothy Gale and her dog are swept away by a tornado from '\n",
      "         'their Kansas farm to the magical Land of Oz, and embark on a quest '\n",
      "         'with three new friends to see the Wizard, who can return her to her '\n",
      "         \"home and fulfill the others' wishe\",\n",
      " 'Poster': 'https://m.media-amazon.com/images/M/MV5BNjUyMTc4MDExMV5BMl5BanBnXkFtZTgwNDg0NDIwMjE@._V1_SX300.jpg',\n",
      " 'Production': 'N/A',\n",
      " 'Rated': 'G',\n",
      " 'Ratings': [{'Source': 'Internet Movie Database', 'Value': '8.1/10'},\n",
      "             {'Source': 'Rotten Tomatoes', 'Value': '98%'},\n",
      "             {'Source': 'Metacritic', 'Value': '92/100'}],\n",
      " 'Released': '25 Aug 1939',\n",
      " 'Response': 'True',\n",
      " 'Runtime': '102 min',\n",
      " 'Title': 'The Wizard of Oz',\n",
      " 'Type': 'movie',\n",
      " 'Website': 'N/A',\n",
      " 'Writer': 'Noel Langley, Florence Ryerson, Edgar Allan Woolf',\n",
      " 'Year': '1939',\n",
      " 'imdbID': 'tt0032138',\n",
      " 'imdbRating': '8.1',\n",
      " 'imdbVotes': '386,540'}\n"
     ]
    }
   ],
   "source": [
    "data = response.json()\n",
    "pprint(data)"
   ]
  },
  {
   "cell_type": "code",
   "execution_count": 12,
   "id": "bd5f2928",
   "metadata": {},
   "outputs": [
    {
     "name": "stdout",
     "output_type": "stream",
     "text": [
      "The Wizard of Oz\n",
      "$24,668,669\n"
     ]
    }
   ],
   "source": [
    "\n",
    "title=data['Title']\n",
    "# Director=(f\"Movie was directed by {data['Director']}.\")\n",
    "# Country=(f\"Movie was released in {data['Country']}.\")\n",
    "Box_office=data['BoxOffice']\n",
    "\n",
    "results_df = pd.DataFrame(columns=(\"Movie Title\", \"Box Office\"))\n",
    "# results_df = results_df.rename(columns={\n",
    "#         title : \"Movie Title\", \n",
    "#         Director : \"Director\", \n",
    "#         Country : \"Country\", \n",
    "#         Box_office : \"Box Office\"\n",
    "#         })\n",
    "results_df\n",
    "print(title)\n",
    "print(Box_office)"
   ]
  },
  {
   "cell_type": "code",
   "execution_count": 18,
   "id": "c94c1fc1-7104-4fd0-a569-a0c98a37492d",
   "metadata": {},
   "outputs": [
    {
     "data": {
      "text/html": [
       "<div>\n",
       "<style scoped>\n",
       "    .dataframe tbody tr th:only-of-type {\n",
       "        vertical-align: middle;\n",
       "    }\n",
       "\n",
       "    .dataframe tbody tr th {\n",
       "        vertical-align: top;\n",
       "    }\n",
       "\n",
       "    .dataframe thead th {\n",
       "        text-align: right;\n",
       "    }\n",
       "</style>\n",
       "<table border=\"1\" class=\"dataframe\">\n",
       "  <thead>\n",
       "    <tr style=\"text-align: right;\">\n",
       "      <th></th>\n",
       "      <th>Movie Title</th>\n",
       "      <th>Box Office</th>\n",
       "    </tr>\n",
       "  </thead>\n",
       "  <tbody>\n",
       "    <tr>\n",
       "      <th>0</th>\n",
       "      <td>The Wizard of Oz</td>\n",
       "      <td>$24,668,669</td>\n",
       "    </tr>\n",
       "  </tbody>\n",
       "</table>\n",
       "</div>"
      ],
      "text/plain": [
       "        Movie Title   Box Office\n",
       "0  The Wizard of Oz  $24,668,669"
      ]
     },
     "execution_count": 18,
     "metadata": {},
     "output_type": "execute_result"
    }
   ],
   "source": [
    "results_df = pd.DataFrame({\"Movie Title\":[title], \"Box Office\":[Box_office]})\n",
    "results_df"
   ]
  },
  {
   "cell_type": "code",
   "execution_count": 20,
   "id": "fe7412f6-3ead-4b22-87a6-429a6fe94e3e",
   "metadata": {},
   "outputs": [
    {
     "data": {
      "text/html": [
       "<div>\n",
       "<style scoped>\n",
       "    .dataframe tbody tr th:only-of-type {\n",
       "        vertical-align: middle;\n",
       "    }\n",
       "\n",
       "    .dataframe tbody tr th {\n",
       "        vertical-align: top;\n",
       "    }\n",
       "\n",
       "    .dataframe thead th {\n",
       "        text-align: right;\n",
       "    }\n",
       "</style>\n",
       "<table border=\"1\" class=\"dataframe\">\n",
       "  <thead>\n",
       "    <tr style=\"text-align: right;\">\n",
       "      <th></th>\n",
       "      <th>year_film</th>\n",
       "      <th>category</th>\n",
       "      <th>film</th>\n",
       "      <th>winner</th>\n",
       "    </tr>\n",
       "  </thead>\n",
       "  <tbody>\n",
       "    <tr>\n",
       "      <th>8190</th>\n",
       "      <td>2001</td>\n",
       "      <td>BEST PICTURE</td>\n",
       "      <td>A Beautiful Mind</td>\n",
       "      <td>True</td>\n",
       "    </tr>\n",
       "    <tr>\n",
       "      <th>8191</th>\n",
       "      <td>2001</td>\n",
       "      <td>BEST PICTURE</td>\n",
       "      <td>Gosford Park</td>\n",
       "      <td>False</td>\n",
       "    </tr>\n",
       "    <tr>\n",
       "      <th>8192</th>\n",
       "      <td>2001</td>\n",
       "      <td>BEST PICTURE</td>\n",
       "      <td>In the Bedroom</td>\n",
       "      <td>False</td>\n",
       "    </tr>\n",
       "    <tr>\n",
       "      <th>8193</th>\n",
       "      <td>2001</td>\n",
       "      <td>BEST PICTURE</td>\n",
       "      <td>The Lord of the Rings: The Fellowship of the Ring</td>\n",
       "      <td>False</td>\n",
       "    </tr>\n",
       "    <tr>\n",
       "      <th>8194</th>\n",
       "      <td>2001</td>\n",
       "      <td>BEST PICTURE</td>\n",
       "      <td>Moulin Rouge</td>\n",
       "      <td>False</td>\n",
       "    </tr>\n",
       "    <tr>\n",
       "      <th>...</th>\n",
       "      <td>...</td>\n",
       "      <td>...</td>\n",
       "      <td>...</td>\n",
       "      <td>...</td>\n",
       "    </tr>\n",
       "    <tr>\n",
       "      <th>10346</th>\n",
       "      <td>2019</td>\n",
       "      <td>BEST PICTURE</td>\n",
       "      <td>Little Women</td>\n",
       "      <td>False</td>\n",
       "    </tr>\n",
       "    <tr>\n",
       "      <th>10347</th>\n",
       "      <td>2019</td>\n",
       "      <td>BEST PICTURE</td>\n",
       "      <td>Marriage Story</td>\n",
       "      <td>False</td>\n",
       "    </tr>\n",
       "    <tr>\n",
       "      <th>10348</th>\n",
       "      <td>2019</td>\n",
       "      <td>BEST PICTURE</td>\n",
       "      <td>1917</td>\n",
       "      <td>False</td>\n",
       "    </tr>\n",
       "    <tr>\n",
       "      <th>10349</th>\n",
       "      <td>2019</td>\n",
       "      <td>BEST PICTURE</td>\n",
       "      <td>Once upon a Time...in Hollywood</td>\n",
       "      <td>False</td>\n",
       "    </tr>\n",
       "    <tr>\n",
       "      <th>10350</th>\n",
       "      <td>2019</td>\n",
       "      <td>BEST PICTURE</td>\n",
       "      <td>Parasite</td>\n",
       "      <td>True</td>\n",
       "    </tr>\n",
       "  </tbody>\n",
       "</table>\n",
       "<p>138 rows × 4 columns</p>\n",
       "</div>"
      ],
      "text/plain": [
       "       year_film      category  \\\n",
       "8190        2001  BEST PICTURE   \n",
       "8191        2001  BEST PICTURE   \n",
       "8192        2001  BEST PICTURE   \n",
       "8193        2001  BEST PICTURE   \n",
       "8194        2001  BEST PICTURE   \n",
       "...          ...           ...   \n",
       "10346       2019  BEST PICTURE   \n",
       "10347       2019  BEST PICTURE   \n",
       "10348       2019  BEST PICTURE   \n",
       "10349       2019  BEST PICTURE   \n",
       "10350       2019  BEST PICTURE   \n",
       "\n",
       "                                                    film  winner  \n",
       "8190                                    A Beautiful Mind    True  \n",
       "8191                                        Gosford Park   False  \n",
       "8192                                      In the Bedroom   False  \n",
       "8193   The Lord of the Rings: The Fellowship of the Ring   False  \n",
       "8194                                        Moulin Rouge   False  \n",
       "...                                                  ...     ...  \n",
       "10346                                       Little Women   False  \n",
       "10347                                     Marriage Story   False  \n",
       "10348                                               1917   False  \n",
       "10349                    Once upon a Time...in Hollywood   False  \n",
       "10350                                           Parasite    True  \n",
       "\n",
       "[138 rows x 4 columns]"
      ]
     },
     "execution_count": 20,
     "metadata": {},
     "output_type": "execute_result"
    }
   ],
   "source": [
    "oscar_df = pd.read_csv(\"data/the_oscar_award.csv\")\n",
    "# oscar_df\n",
    "oscar_df_year_filter = oscar_df.filter(items= ['year_film', 'category', 'film', 'winner']).dropna()\n",
    "oscar_df_year_filter.loc[(oscar_df_year_filter['category'] == \"BEST PICTURE\") &  (oscar_df_year_filter['year_film'] > 2000)] "
   ]
  },
  {
   "cell_type": "code",
   "execution_count": null,
   "id": "6636e4cd-84d4-44d4-8ea9-8103b0427e98",
   "metadata": {},
   "outputs": [],
   "source": []
  },
  {
   "cell_type": "code",
   "execution_count": null,
   "id": "45a05784-8222-4045-b7f3-6c3fc8b91557",
   "metadata": {},
   "outputs": [],
   "source": []
  }
 ],
 "metadata": {
  "kernelspec": {
   "display_name": "Python 3 (ipykernel)",
   "language": "python",
   "name": "python3"
  },
  "language_info": {
   "codemirror_mode": {
    "name": "ipython",
    "version": 3
   },
   "file_extension": ".py",
   "mimetype": "text/x-python",
   "name": "python",
   "nbconvert_exporter": "python",
   "pygments_lexer": "ipython3",
   "version": "3.9.7"
  }
 },
 "nbformat": 4,
 "nbformat_minor": 5
}
