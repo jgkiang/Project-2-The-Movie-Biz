{
 "cells": [
  {
   "cell_type": "code",
   "execution_count": 1,
   "id": "03049d43",
   "metadata": {},
   "outputs": [],
   "source": [
    "import requests\n",
    "import json\n",
    "#from config import api_key"
   ]
  },
  {
   "cell_type": "code",
   "execution_count": 2,
   "id": "797690ba",
   "metadata": {},
   "outputs": [],
   "source": [
    "from pprint import pprint\n",
    "api_key = \"11c18b32\""
   ]
  },
  {
   "cell_type": "code",
   "execution_count": 3,
   "id": "d003336b",
   "metadata": {},
   "outputs": [],
   "source": [
    "url = \"http://www.omdbapi.com/?t=\"\n",
    "api_key = \"&apikey=\" + api_key"
   ]
  },
  {
   "cell_type": "code",
   "execution_count": 4,
   "id": "bcb3c5b0",
   "metadata": {},
   "outputs": [],
   "source": [
    "response = requests.get(url + \"Terminator 3\" + api_key)"
   ]
  },
  {
   "cell_type": "code",
   "execution_count": 5,
   "id": "7895774c",
   "metadata": {},
   "outputs": [
    {
     "name": "stdout",
     "output_type": "stream",
     "text": [
      "{'Actors': 'Arnold Schwarzenegger, Nick Stahl, Kristanna Loken',\n",
      " 'Awards': '3 wins & 24 nominations',\n",
      " 'BoxOffice': '$150,371,112',\n",
      " 'Country': 'United States, Germany, United Kingdom',\n",
      " 'DVD': '10 May 2005',\n",
      " 'Director': 'Jonathan Mostow',\n",
      " 'Genre': 'Action, Sci-Fi',\n",
      " 'Language': 'English',\n",
      " 'Metascore': '66',\n",
      " 'Plot': 'A machine from a post-apocalyptic future travels back in time to '\n",
      "         'protect a man and a woman from an advanced robotic assassin to '\n",
      "         'ensure they both survive a nuclear attack.',\n",
      " 'Poster': 'https://m.media-amazon.com/images/M/MV5BMTk5NzM1ODgyN15BMl5BanBnXkFtZTcwMzA5MjAzMw@@._V1_SX300.jpg',\n",
      " 'Production': 'N/A',\n",
      " 'Rated': 'R',\n",
      " 'Ratings': [{'Source': 'Internet Movie Database', 'Value': '6.3/10'},\n",
      "             {'Source': 'Rotten Tomatoes', 'Value': '69%'},\n",
      "             {'Source': 'Metacritic', 'Value': '66/100'}],\n",
      " 'Released': '02 Jul 2003',\n",
      " 'Response': 'True',\n",
      " 'Runtime': '109 min',\n",
      " 'Title': 'Terminator 3: Rise of the Machines',\n",
      " 'Type': 'movie',\n",
      " 'Website': 'N/A',\n",
      " 'Writer': 'John Brancato, Michael Ferris, Tedi Sarafian',\n",
      " 'Year': '2003',\n",
      " 'imdbID': 'tt0181852',\n",
      " 'imdbRating': '6.3',\n",
      " 'imdbVotes': '392,635'}\n"
     ]
    }
   ],
   "source": [
    "data = response.json()\n",
    "pprint(data)"
   ]
  },
  {
   "cell_type": "code",
   "execution_count": 6,
   "id": "bd5f2928",
   "metadata": {},
   "outputs": [
    {
     "name": "stdout",
     "output_type": "stream",
     "text": [
      "Movie was directed by Jonathan Mostow.\n",
      "Movie was released in United States, Germany, United Kingdom.\n",
      "Movie grossed at the box office $150,371,112.\n"
     ]
    }
   ],
   "source": [
    "print(f\"Movie was directed by {data['Director']}.\")\n",
    "print(f\"Movie was released in {data['Country']}.\")\n",
    "print(f\"Movie grossed at the box office {data['BoxOffice']}.\")"
   ]
  },
  {
   "cell_type": "code",
   "execution_count": null,
   "id": "c94c1fc1-7104-4fd0-a569-a0c98a37492d",
   "metadata": {},
   "outputs": [],
   "source": []
  }
 ],
 "metadata": {
  "kernelspec": {
   "display_name": "Python 3 (ipykernel)",
   "language": "python",
   "name": "python3"
  },
  "language_info": {
   "codemirror_mode": {
    "name": "ipython",
    "version": 3
   },
   "file_extension": ".py",
   "mimetype": "text/x-python",
   "name": "python",
   "nbconvert_exporter": "python",
   "pygments_lexer": "ipython3",
   "version": "3.9.7"
  }
 },
 "nbformat": 4,
 "nbformat_minor": 5
}
