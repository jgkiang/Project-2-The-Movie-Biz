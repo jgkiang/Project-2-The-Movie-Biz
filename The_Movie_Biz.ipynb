{
 "cells": [
  {
   "cell_type": "code",
   "execution_count": 1,
   "id": "03049d43",
   "metadata": {},
   "outputs": [],
   "source": [
    "import requests\n",
    "import json\n",
    "#from config import api_key"
   ]
  },
  {
   "cell_type": "code",
   "execution_count": 2,
   "id": "797690ba",
   "metadata": {},
   "outputs": [],
   "source": [
    "from pprint import pprint\n",
    "api_key = \"11c18b32\""
   ]
  },
  {
   "cell_type": "code",
   "execution_count": 3,
   "id": "d003336b",
   "metadata": {},
   "outputs": [],
   "source": [
    "url = \"http://www.omdbapi.com/?t=\"\n",
    "api_key = \"&apikey=\" + api_key"
   ]
  },
  {
   "cell_type": "code",
   "execution_count": 4,
   "id": "bcb3c5b0",
   "metadata": {},
   "outputs": [],
   "source": [
    "response = requests.get(url + \"Terminator 2\" + api_key)"
   ]
  },
  {
   "cell_type": "code",
   "execution_count": 5,
   "id": "7895774c",
   "metadata": {},
   "outputs": [
    {
     "name": "stdout",
     "output_type": "stream",
     "text": [
      "{'Actors': 'Arnold Schwarzenegger, Linda Hamilton, Edward Furlong',\n",
      " 'Awards': 'Won 4 Oscars. 36 wins & 33 nominations total',\n",
      " 'BoxOffice': '$205,881,154',\n",
      " 'Country': 'United States',\n",
      " 'DVD': '13 Feb 2007',\n",
      " 'Director': 'James Cameron',\n",
      " 'Genre': 'Action, Sci-Fi',\n",
      " 'Language': 'English, Spanish',\n",
      " 'Metascore': '75',\n",
      " 'Plot': 'A cyborg, identical to the one who failed to kill Sarah Connor, must '\n",
      "         'now protect her ten-year-old son John from a more advanced and '\n",
      "         'powerful cyborg.',\n",
      " 'Poster': 'https://m.media-amazon.com/images/M/MV5BMGU2NzRmZjUtOGUxYS00ZjdjLWEwZWItY2NlM2JhNjkxNTFmXkEyXkFqcGdeQXVyNjU0OTQ0OTY@._V1_SX300.jpg',\n",
      " 'Production': 'N/A',\n",
      " 'Rated': 'R',\n",
      " 'Ratings': [{'Source': 'Internet Movie Database', 'Value': '8.6/10'},\n",
      "             {'Source': 'Rotten Tomatoes', 'Value': '93%'},\n",
      "             {'Source': 'Metacritic', 'Value': '75/100'}],\n",
      " 'Released': '03 Jul 1991',\n",
      " 'Response': 'True',\n",
      " 'Runtime': '137 min',\n",
      " 'Title': 'Terminator 2: Judgment Day',\n",
      " 'Type': 'movie',\n",
      " 'Website': 'N/A',\n",
      " 'Writer': 'James Cameron, William Wisher',\n",
      " 'Year': '1991',\n",
      " 'imdbID': 'tt0103064',\n",
      " 'imdbRating': '8.6',\n",
      " 'imdbVotes': '1,061,594'}\n"
     ]
    }
   ],
   "source": [
    "data = response.json()\n",
    "pprint(data)"
   ]
  },
  {
   "cell_type": "code",
   "execution_count": 7,
   "id": "bd5f2928",
   "metadata": {},
   "outputs": [
    {
     "name": "stdout",
     "output_type": "stream",
     "text": [
      "Movie was directed by James Cameron.\n",
      "Movie was released in United States.\n",
      "Movie grossed at the box office $205,881,154.\n"
     ]
    }
   ],
   "source": [
    "print(f\"Movie was directed by {data['Director']}.\")\n",
    "print(f\"Movie was released in {data['Country']}.\")\n",
    "print(f\"Movie grossed at the box office {data['BoxOffice']}.\")"
   ]
  },
  {
   "cell_type": "code",
   "execution_count": null,
   "id": "c94c1fc1-7104-4fd0-a569-a0c98a37492d",
   "metadata": {},
   "outputs": [],
   "source": []
  }
 ],
 "metadata": {
  "kernelspec": {
   "display_name": "Python 3 (ipykernel)",
   "language": "python",
   "name": "python3"
  },
  "language_info": {
   "codemirror_mode": {
    "name": "ipython",
    "version": 3
   },
   "file_extension": ".py",
   "mimetype": "text/x-python",
   "name": "python",
   "nbconvert_exporter": "python",
   "pygments_lexer": "ipython3",
   "version": "3.9.7"
  }
 },
 "nbformat": 4,
 "nbformat_minor": 5
}
