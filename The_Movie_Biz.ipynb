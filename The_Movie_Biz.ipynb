{
 "cells": [
  {
   "cell_type": "code",
   "execution_count": 1,
   "id": "03049d43",
   "metadata": {},
   "outputs": [],
   "source": [
    "import requests\n",
    "import json\n",
    "#from config import api_key"
   ]
  },
  {
   "cell_type": "code",
   "execution_count": 2,
   "id": "797690ba",
   "metadata": {},
   "outputs": [],
   "source": [
    "from pprint import pprint\n",
    "api_key = \"11c18b32\""
   ]
  },
  {
   "cell_type": "code",
   "execution_count": 3,
   "id": "d003336b",
   "metadata": {},
   "outputs": [],
   "source": [
    "url = \"http://www.omdbapi.com/?t=\"\n",
    "api_key = \"&apikey=\" + api_key"
   ]
  },
  {
   "cell_type": "code",
   "execution_count": 4,
   "id": "bcb3c5b0",
   "metadata": {},
   "outputs": [],
   "source": [
    "response = requests.get(url + \"Star Wars\" + api_key)"
   ]
  },
  {
   "cell_type": "code",
   "execution_count": 5,
   "id": "7895774c",
   "metadata": {},
   "outputs": [
    {
     "name": "stdout",
     "output_type": "stream",
     "text": [
      "{'Actors': 'Mark Hamill, Harrison Ford, Carrie Fisher',\n",
      " 'Awards': 'Won 7 Oscars. 63 wins & 29 nominations total',\n",
      " 'BoxOffice': '$460,998,507',\n",
      " 'Country': 'United States',\n",
      " 'DVD': '06 Dec 2005',\n",
      " 'Director': 'George Lucas',\n",
      " 'Genre': 'Action, Adventure, Fantasy',\n",
      " 'Language': 'English',\n",
      " 'Metascore': '90',\n",
      " 'Plot': 'Luke Skywalker joins forces with a Jedi Knight, a cocky pilot, a '\n",
      "         \"Wookiee and two droids to save the galaxy from the Empire's \"\n",
      "         'world-destroying battle station, while also attempting to rescue '\n",
      "         'Princess Leia from the mysterious Darth Vad',\n",
      " 'Poster': 'https://m.media-amazon.com/images/M/MV5BNzVlY2MwMjktM2E4OS00Y2Y3LWE3ZjctYzhkZGM3YzA1ZWM2XkEyXkFqcGdeQXVyNzkwMjQ5NzM@._V1_SX300.jpg',\n",
      " 'Production': 'N/A',\n",
      " 'Rated': 'PG',\n",
      " 'Ratings': [{'Source': 'Internet Movie Database', 'Value': '8.6/10'},\n",
      "             {'Source': 'Rotten Tomatoes', 'Value': '92%'},\n",
      "             {'Source': 'Metacritic', 'Value': '90/100'}],\n",
      " 'Released': '25 May 1977',\n",
      " 'Response': 'True',\n",
      " 'Runtime': '121 min',\n",
      " 'Title': 'Star Wars',\n",
      " 'Type': 'movie',\n",
      " 'Website': 'N/A',\n",
      " 'Writer': 'George Lucas',\n",
      " 'Year': '1977',\n",
      " 'imdbID': 'tt0076759',\n",
      " 'imdbRating': '8.6',\n",
      " 'imdbVotes': '1,312,386'}\n"
     ]
    }
   ],
   "source": [
    "data = response.json()\n",
    "pprint(data)"
   ]
  },
  {
   "cell_type": "code",
   "execution_count": null,
   "id": "bd5f2928",
   "metadata": {},
   "outputs": [],
   "source": []
  }
 ],
 "metadata": {
  "kernelspec": {
   "display_name": "Python 3 (ipykernel)",
   "language": "python",
   "name": "python3"
  },
  "language_info": {
   "codemirror_mode": {
    "name": "ipython",
    "version": 3
   },
   "file_extension": ".py",
   "mimetype": "text/x-python",
   "name": "python",
   "nbconvert_exporter": "python",
   "pygments_lexer": "ipython3",
   "version": "3.9.7"
  }
 },
 "nbformat": 4,
 "nbformat_minor": 5
}
