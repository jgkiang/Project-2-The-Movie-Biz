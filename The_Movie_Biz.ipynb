{
 "cells": [
  {
   "cell_type": "code",
   "execution_count": 1,
   "id": "03049d43",
   "metadata": {},
   "outputs": [],
   "source": [
    "import requests\n",
    "import json\n",
    "#from config import api_key"
   ]
  },
  {
   "cell_type": "code",
   "execution_count": 2,
   "id": "797690ba",
   "metadata": {},
   "outputs": [],
   "source": [
    "from pprint import pprint\n",
    "api_key = \"11c18b32\""
   ]
  },
  {
   "cell_type": "code",
   "execution_count": 3,
   "id": "d003336b",
   "metadata": {},
   "outputs": [],
   "source": [
    "url = \"http://www.omdbapi.com/?i=tt3896198&apikey=11c18b32\"\n",
    "api_key = \"&apikey=\" + api_key"
   ]
  },
  {
   "cell_type": "code",
   "execution_count": 4,
   "id": "bcb3c5b0",
   "metadata": {},
   "outputs": [],
   "source": [
    "response = requests.get(url + \"Aliens\" + api_key)"
   ]
  },
  {
   "cell_type": "code",
   "execution_count": 5,
   "id": "7895774c",
   "metadata": {},
   "outputs": [
    {
     "name": "stdout",
     "output_type": "stream",
     "text": [
      "{'Error': 'Invalid API key!', 'Response': 'False'}\n"
     ]
    }
   ],
   "source": [
    "data = response.json()\n",
    "pprint(data)"
   ]
  },
  {
   "cell_type": "code",
   "execution_count": null,
   "id": "bd5f2928",
   "metadata": {},
   "outputs": [],
   "source": []
  }
 ],
 "metadata": {
  "kernelspec": {
   "display_name": "Python 3 (ipykernel)",
   "language": "python",
   "name": "python3"
  },
  "language_info": {
   "codemirror_mode": {
    "name": "ipython",
    "version": 3
   },
   "file_extension": ".py",
   "mimetype": "text/x-python",
   "name": "python",
   "nbconvert_exporter": "python",
   "pygments_lexer": "ipython3",
   "version": "3.9.7"
  }
 },
 "nbformat": 4,
 "nbformat_minor": 5
}
